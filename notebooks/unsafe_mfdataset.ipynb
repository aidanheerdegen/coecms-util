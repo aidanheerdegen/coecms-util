{
 "cells": [
  {
   "cell_type": "markdown",
   "metadata": {},
   "source": [
    "# unsafe_mfdataset demo\n",
    "\n",
    "`unsafe_mfdataset()` constructs a virtual file for a large collection, without having to open all of the individual files. It makes some assumptions that could be invalid in some situations"
   ]
  },
  {
   "cell_type": "code",
   "execution_count": 2,
   "metadata": {},
   "outputs": [
    {
     "name": "stderr",
     "output_type": "stream",
     "text": [
      "/short/w35/saw562/conda/envs/coecms/lib/python3.6/importlib/_bootstrap.py:219: RuntimeWarning: numpy.dtype size changed, may indicate binary incompatibility. Expected 96, got 88\n",
      "  return f(*args, **kwds)\n"
     ]
    }
   ],
   "source": [
    "%matplotlib inline\n",
    "from coecms.bigdata import unsafe_mfdataset\n",
    "import pandas\n",
    "import xarray\n",
    "from pandas.tseries.offsets import *"
   ]
  },
  {
   "cell_type": "markdown",
   "metadata": {},
   "source": [
    "## ERA-Interim\n",
    "\n",
    "Era-Interim has one file per month, with names like\n",
    "\n",
    "    /g/data1/ub4/erai/netcdf/3hr/atmos/oper_fc_sfc/v01/tas/tas_3hrs_ERAI_historical_fc-sfc_20040101_20040131.nc\n",
    "    \n",
    "Each file contains 3 hourly data, from 0300 on the first of the month, to 0000 on the first of the following month"
   ]
  },
  {
   "cell_type": "code",
   "execution_count": 81,
   "metadata": {},
   "outputs": [],
   "source": [
    "def erai_path(date):\n",
    "    date = date - 3*Hour()\n",
    "    mstart = (date - MonthEnd() + Day()).strftime('%Y%m%d')\n",
    "    mend = (date + MonthBegin() - Day()).strftime('%Y%m%d')\n",
    "    return f'/g/data1/ub4/erai/netcdf/3hr/atmos/oper_fc_sfc/v01/tas/tas_3hrs_ERAI_historical_fc-sfc_{mstart}_{mend}.nc'"
   ]
  },
  {
   "cell_type": "code",
   "execution_count": 82,
   "metadata": {},
   "outputs": [],
   "source": [
    "# Check the paths are printed correctly\n",
    "sample = '/g/data1/ub4/erai/netcdf/3hr/atmos/oper_fc_sfc/v01/tas/tas_3hrs_ERAI_historical_fc-sfc_20040101_20040131.nc'\n",
    "\n",
    "assert erai_path(pandas.to_datetime('20040101T0300')) == sample\n",
    "assert erai_path(pandas.to_datetime('20040103T1800')) == sample\n",
    "assert erai_path(pandas.to_datetime('20040201T0000')) == sample"
   ]
  },
  {
   "cell_type": "code",
   "execution_count": 4,
   "metadata": {},
   "outputs": [],
   "source": [
    "dates = pandas.date_range('19810101', '20171231', freq='MS')\n",
    "paths = [erai_path(d) for d in dates]"
   ]
  },
  {
   "cell_type": "code",
   "execution_count": 5,
   "metadata": {},
   "outputs": [
    {
     "data": {
      "text/plain": [
       "<xarray.Dataset>\n",
       "Dimensions:  (lat: 241, lon: 480, time: 108112)\n",
       "Coordinates:\n",
       "  * lat      (lat) float64 90.0 89.25 88.5 87.75 87.0 86.25 85.5 84.75 84.0 ...\n",
       "  * lon      (lon) float64 -180.0 -179.2 -178.5 -177.8 -177.0 -176.2 -175.5 ...\n",
       "  * time     (time) datetime64[ns] 1981-01-01T03:00:00 1981-01-01T06:00:00 ...\n",
       "Data variables:\n",
       "    tas      (time, lat, lon) float32 dask.array<shape=(108112, 241, 480), chunksize=(248, 241, 480)>\n",
       "Attributes:\n",
       "    CDI:          Climate Data Interface version 1.6.9 (http://mpimet.mpg.de/...\n",
       "    Conventions:  CF-1.4\n",
       "    history:      Thu Sep  3 10:14:33 2015: ncks -O --md5_wrt_att -v tas 2T_1...\n",
       "    CDO:          Climate Data Operators version 1.6.9 (http://mpimet.mpg.de/...\n",
       "    title:        ERA-Interim 2 metre temperature [K] forecast on surface (gl...\n",
       "    institution:  ARCCSS ARC Centre of Excellence for Climate System Science ...\n",
       "    source:       Original grib files obtained from http://apps.ecmwf.int/dat...\n",
       "    references:   Please acknowledge both ECMWF for original files and the AR...\n",
       "    NCO:          20150903"
      ]
     },
     "execution_count": 5,
     "metadata": {},
     "output_type": "execute_result"
    }
   ],
   "source": [
    "ds = unsafe_mfdataset(paths)\n",
    "ds"
   ]
  },
  {
   "cell_type": "code",
   "execution_count": 84,
   "metadata": {},
   "outputs": [
    {
     "name": "stdout",
     "output_type": "stream",
     "text": [
      "[########################################] | 100% Completed | 22.9s\n"
     ]
    },
    {
     "data": {
      "image/png": "[encoded data removed]",
      "text/plain": [
       "<Figure size 432x288 with 1 Axes>"
      ]
     },
     "metadata": {
      "needs_background": "light"
     },
     "output_type": "display_data"
    }
   ],
   "source": [
    "from dask.diagnostics import ProgressBar\n",
    "with ProgressBar():\n",
    "    da = ds.tas.sel(lat=-37.8136, lon=144.9631, method='nearest').sel(time=slice(None, '19850101'))\n",
    "    da.plot()"
   ]
  },
  {
   "cell_type": "markdown",
   "metadata": {},
   "source": [
    "## MUR\n",
    "\n",
    "MUR data has one file per day, with OpenDAP urls like\n",
    "\n",
    "    https://podaac-opendap.jpl.nasa.gov/opendap/allData/ghrsst/data/GDS2/L4/GLOB/JPL/MUR/v4.1/2002/152/20020601090000-JPL-L4_GHRSST-SSTfnd-MUR-GLOB-v02.0-fv04.1.nc"
   ]
  },
  {
   "cell_type": "code",
   "execution_count": 3,
   "metadata": {},
   "outputs": [],
   "source": [
    "def mur_path(date):\n",
    "    yyyy = date.year\n",
    "    doy = date.dayofyear\n",
    "    yyyymmdd = date.strftime('%Y%m%d')\n",
    "    return f'https://podaac-opendap.jpl.nasa.gov/opendap/allData/ghrsst/data/GDS2/L4/GLOB/JPL/MUR/v4.1/{yyyy}/{doy}/{yyyymmdd}090000-JPL-L4_GHRSST-SSTfnd-MUR-GLOB-v02.0-fv04.1.nc'"
   ]
  },
  {
   "cell_type": "code",
   "execution_count": 4,
   "metadata": {},
   "outputs": [
    {
     "data": {
      "text/plain": [
       "'https://podaac-opendap.jpl.nasa.gov/opendap/allData/ghrsst/data/GDS2/L4/GLOB/JPL/MUR/v4.1/2002/152/20020601090000-JPL-L4_GHRSST-SSTfnd-MUR-GLOB-v02.0-fv04.1.nc'"
      ]
     },
     "execution_count": 4,
     "metadata": {},
     "output_type": "execute_result"
    }
   ],
   "source": [
    "mur_path(pandas.to_datetime('20020601'))"
   ]
  },
  {
   "cell_type": "code",
   "execution_count": null,
   "metadata": {},
   "outputs": [],
   "source": [
    "paths = [mur_path(d) for d in pandas.date_range('20020301','20020305')]\n",
    "ds = unsafe_mfdataset(paths, chunks={'lat':1000, 'lon': 1000})\n",
    "ds"
   ]
  },
  {
   "cell_type": "code",
   "execution_count": null,
   "metadata": {},
   "outputs": [],
   "source": []
  }
 ],
 "metadata": {
  "kernelspec": {
   "display_name": "Python 3",
   "language": "python",
   "name": "python3"
  },
  "language_info": {
   "codemirror_mode": {
    "name": "ipython",
    "version": 3
   },
   "file_extension": ".py",
   "mimetype": "text/x-python",
   "name": "python",
   "nbconvert_exporter": "python",
   "pygments_lexer": "ipython3",
   "version": "3.6.6"
  }
 },
 "nbformat": 4,
 "nbformat_minor": 2
}
